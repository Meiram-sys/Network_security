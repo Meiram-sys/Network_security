{
 "cells": [
  {
   "cell_type": "code",
   "execution_count": 1,
   "metadata": {},
   "outputs": [],
   "source": [
    "import pandas as pd\n",
    "import os\n",
    "import glob"
   ]
  },
  {
   "cell_type": "markdown",
   "metadata": {},
   "source": [
    "#### dataset = https://www.unb.ca/cic/datasets/ids-2017.html (MachieneLearningCVE)\n"
   ]
  },
  {
   "cell_type": "code",
   "execution_count": 2,
   "metadata": {},
   "outputs": [
    {
     "name": "stdout",
     "output_type": "stream",
     "text": [
      "Successfully read: Friday-WorkingHours-Morning.pcap_ISCX.csv\n",
      "Successfully read: Wednesday-workingHours.pcap_ISCX.csv\n",
      "Successfully read: Monday-WorkingHours.pcap_ISCX.csv\n",
      "Successfully read: Tuesday-WorkingHours.pcap_ISCX.csv\n",
      "Successfully read: Thursday-WorkingHours-Afternoon-Infilteration.pcap_ISCX.csv\n",
      "Successfully read: Thursday-WorkingHours-Morning-WebAttacks.pcap_ISCX.csv\n",
      "Successfully read: Friday-WorkingHours-Afternoon-PortScan.pcap_ISCX.csv\n",
      "Successfully read: Friday-WorkingHours-Afternoon-DDos.pcap_ISCX.csv\n",
      "Combined 8 CSV files. Total rows: 1799249\n"
     ]
    }
   ],
   "source": [
    "def read_all_csv_files(directory_path):\n",
    "    \"\"\"\n",
    "    Read all CSV files from a directory into a single DataFrame.\n",
    "    \n",
    "    Args:\n",
    "        directory_path: Path to the directory containing CSV files\n",
    "        \n",
    "    Returns:\n",
    "        Combined DataFrame containing data from all CSV files\n",
    "    \"\"\"\n",
    "    # Check if directory exists\n",
    "    if not os.path.exists(directory_path):\n",
    "        raise FileNotFoundError(f\"Directory not found: {directory_path}\")\n",
    "    \n",
    "    # Get all CSV files in the directory\n",
    "    csv_files = glob.glob(os.path.join(directory_path, \"*.csv\"))\n",
    "    \n",
    "    if not csv_files:\n",
    "        print(f\"No CSV files found in {directory_path}\")\n",
    "        return None\n",
    "    \n",
    "    # Create an empty list to store individual DataFrames\n",
    "    dfs = []\n",
    "    \n",
    "    # Read each CSV file and append to the list\n",
    "    for file in csv_files:\n",
    "        try:\n",
    "            df = pd.read_csv(file)\n",
    "            dfs.append(df)\n",
    "            print(f\"Successfully read: {os.path.basename(file)}\")\n",
    "        except Exception as e:\n",
    "            print(f\"Error reading {os.path.basename(file)}: {str(e)}\")\n",
    "    \n",
    "    if not dfs:\n",
    "        print(\"No valid CSV files were read.\")\n",
    "        return None\n",
    "    \n",
    "    # Combine all DataFrames into one\n",
    "    combined_df = pd.concat(dfs, ignore_index=True)\n",
    "    \n",
    "    print(f\"Combined {len(dfs)} CSV files. Total rows: {len(combined_df)}\")\n",
    "    return combined_df\n",
    "\n",
    "# Usage\n",
    "directory_path = \"/Users/meiramzarypkanov/Desktop/University/4_Network_Security/NetworkSecurity/data/MachineLearningCVE\"\n",
    "mlcve = read_all_csv_files(directory_path)"
   ]
  },
  {
   "cell_type": "code",
   "execution_count": 9,
   "metadata": {},
   "outputs": [],
   "source": [
    "mlcve = mlcve.dropna()\n",
    "mlcve.columns = mlcve.columns.str.strip()"
   ]
  },
  {
   "cell_type": "code",
   "execution_count": 10,
   "metadata": {},
   "outputs": [
    {
     "data": {
      "text/plain": [
       "Index(['Destination Port', 'Flow Duration', 'Total Fwd Packets',\n",
       "       'Total Backward Packets', 'Total Length of Fwd Packets',\n",
       "       'Total Length of Bwd Packets', 'Fwd Packet Length Max',\n",
       "       'Fwd Packet Length Min', 'Fwd Packet Length Mean',\n",
       "       'Fwd Packet Length Std', 'Bwd Packet Length Max',\n",
       "       'Bwd Packet Length Min', 'Bwd Packet Length Mean',\n",
       "       'Bwd Packet Length Std', 'Flow Bytes/s', 'Flow Packets/s',\n",
       "       'Flow IAT Mean', 'Flow IAT Std', 'Flow IAT Max', 'Flow IAT Min',\n",
       "       'Fwd IAT Total', 'Fwd IAT Mean', 'Fwd IAT Std', 'Fwd IAT Max',\n",
       "       'Fwd IAT Min', 'Bwd IAT Total', 'Bwd IAT Mean', 'Bwd IAT Std',\n",
       "       'Bwd IAT Max', 'Bwd IAT Min', 'Fwd PSH Flags', 'Bwd PSH Flags',\n",
       "       'Fwd URG Flags', 'Bwd URG Flags', 'Fwd Header Length',\n",
       "       'Bwd Header Length', 'Fwd Packets/s', 'Bwd Packets/s',\n",
       "       'Min Packet Length', 'Max Packet Length', 'Packet Length Mean',\n",
       "       'Packet Length Std', 'Packet Length Variance', 'FIN Flag Count',\n",
       "       'SYN Flag Count', 'RST Flag Count', 'PSH Flag Count', 'ACK Flag Count',\n",
       "       'URG Flag Count', 'CWE Flag Count', 'ECE Flag Count', 'Down/Up Ratio',\n",
       "       'Average Packet Size', 'Avg Fwd Segment Size', 'Avg Bwd Segment Size',\n",
       "       'Fwd Header Length.1', 'Fwd Avg Bytes/Bulk', 'Fwd Avg Packets/Bulk',\n",
       "       'Fwd Avg Bulk Rate', 'Bwd Avg Bytes/Bulk', 'Bwd Avg Packets/Bulk',\n",
       "       'Bwd Avg Bulk Rate', 'Subflow Fwd Packets', 'Subflow Fwd Bytes',\n",
       "       'Subflow Bwd Packets', 'Subflow Bwd Bytes', 'Init_Win_bytes_forward',\n",
       "       'Init_Win_bytes_backward', 'act_data_pkt_fwd', 'min_seg_size_forward',\n",
       "       'Active Mean', 'Active Std', 'Active Max', 'Active Min', 'Idle Mean',\n",
       "       'Idle Std', 'Idle Max', 'Idle Min', 'Label'],\n",
       "      dtype='object')"
      ]
     },
     "execution_count": 10,
     "metadata": {},
     "output_type": "execute_result"
    }
   ],
   "source": [
    "mlcve.columns"
   ]
  },
  {
   "cell_type": "code",
   "execution_count": 12,
   "metadata": {},
   "outputs": [
    {
     "name": "stdout",
     "output_type": "stream",
     "text": [
      "Unique labels in the dataset:\n",
      "['BENIGN' 'Bot' 'DoS slowloris' 'DoS Slowhttptest' 'DoS Hulk'\n",
      " 'FTP-Patator' 'SSH-Patator' 'Infiltration' 'Web Attack � Brute Force'\n",
      " 'Web Attack � XSS' 'Web Attack � Sql Injection' 'PortScan' 'DDoS']\n",
      "Total number of unique labels: 13\n",
      "\n",
      "Label distribution:\n",
      "BENIGN                        1351952\n",
      "PortScan                       158930\n",
      "DoS Hulk                       133217\n",
      "DDoS                           128027\n",
      "FTP-Patator                      7938\n",
      "DoS slowloris                    5796\n",
      "DoS Slowhttptest                 5499\n",
      "SSH-Patator                      2973\n",
      "Bot                              1966\n",
      "Web Attack � Brute Force         1507\n",
      "Web Attack � XSS                  652\n",
      "Infiltration                       36\n",
      "Web Attack � Sql Injection         21\n",
      "Name: Label, dtype: int64\n",
      "\n",
      "Label distribution (%):\n",
      "BENIGN                        75.170502\n",
      "PortScan                       8.836740\n",
      "DoS Hulk                       7.407059\n",
      "DDoS                           7.118488\n",
      "FTP-Patator                    0.441364\n",
      "DoS slowloris                  0.322266\n",
      "DoS Slowhttptest               0.305752\n",
      "SSH-Patator                    0.165303\n",
      "Bot                            0.109312\n",
      "Web Attack � Brute Force       0.083791\n",
      "Web Attack � XSS               0.036252\n",
      "Infiltration                   0.002002\n",
      "Web Attack � Sql Injection     0.001168\n",
      "Name: Label, dtype: float64\n"
     ]
    }
   ],
   "source": [
    "# Show all unique labels\n",
    "print(\"Unique labels in the dataset:\")\n",
    "unique_labels = mlcve['Label'].unique()\n",
    "print(unique_labels)\n",
    "print(f\"Total number of unique labels: {mlcve['Label'].nunique()}\")\n",
    "\n",
    "# Show distribution of labels (count of each label)\n",
    "print(\"\\nLabel distribution:\")\n",
    "label_counts = mlcve['Label'].value_counts()\n",
    "print(label_counts)\n",
    "\n",
    "# Show distribution as percentages\n",
    "print(\"\\nLabel distribution (%):\")\n",
    "label_percentage = mlcve['Label'].value_counts(normalize=True) * 100\n",
    "print(label_percentage)"
   ]
  },
  {
   "cell_type": "markdown",
   "metadata": {},
   "source": [
    "##### BENIGN = legitimate network traffic\n",
    "\n",
    "##### other labels are attack types\n"
   ]
  }
 ],
 "metadata": {
  "kernelspec": {
   "display_name": "Python 3",
   "language": "python",
   "name": "python3"
  },
  "language_info": {
   "codemirror_mode": {
    "name": "ipython",
    "version": 3
   },
   "file_extension": ".py",
   "mimetype": "text/x-python",
   "name": "python",
   "nbconvert_exporter": "python",
   "pygments_lexer": "ipython3",
   "version": "3.7.7"
  }
 },
 "nbformat": 4,
 "nbformat_minor": 2
}
